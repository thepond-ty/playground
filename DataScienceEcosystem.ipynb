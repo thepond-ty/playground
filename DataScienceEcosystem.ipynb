{
 "cells": [
  {
   "cell_type": "markdown",
   "id": "380f0fc1-5bef-4ae4-93d0-c7430000fa27",
   "metadata": {},
   "source": [
    "# Data Science Tools and Ecosystem"
   ]
  },
  {
   "cell_type": "markdown",
   "id": "53840d44-dffd-4c6e-ab24-e4aac9fc6605",
   "metadata": {},
   "source": [
    "In this notebook, Data Science Tools and Ecosystem are summarized."
   ]
  },
  {
   "cell_type": "markdown",
   "id": "860473c7-280b-47ce-b136-535ea944866d",
   "metadata": {},
   "source": [
    "**Objectives:**\n",
    "* List popular languages for Data Science\n",
    "* List popular libraries for Data Science\n",
    "* Learn version control using git"
   ]
  },
  {
   "cell_type": "markdown",
   "id": "6b540a77-acb6-42b6-9fde-dfc515b9de45",
   "metadata": {},
   "source": [
    "Some of the popular languages that Data Scientists use are:\n",
    "1. Python\n",
    "2. R\n",
    "3. SQL"
   ]
  },
  {
   "cell_type": "markdown",
   "id": "4c1c5655-fdd2-4c22-845f-2b8a9aea7a85",
   "metadata": {},
   "source": [
    "Some of the commonly used libraries used by Data Scientists include:\n",
    "1. Pandas\n",
    "2. NumPy\n",
    "3. Matplotlib\n",
    "4. Seaborn\n",
    "5. PyTorch"
   ]
  },
  {
   "cell_type": "markdown",
   "id": "76760eb8-7cde-4c29-9e67-713c414a236f",
   "metadata": {},
   "source": [
    "| Data Science Tools |\n",
    "| --- |\n",
    "| Jupyter | \n",
    "| Spyder | \n",
    "| RStudio | "
   ]
  },
  {
   "cell_type": "markdown",
   "id": "46a26f99-8ad2-4141-bb69-f7e75d7973c0",
   "metadata": {},
   "source": [
    "### Below are a few examples of evaluating arithmetic expressions in Python."
   ]
  },
  {
   "cell_type": "code",
   "execution_count": 1,
   "id": "13241edf-6996-49e7-83f6-4b01d1e0e7e0",
   "metadata": {},
   "outputs": [
    {
     "data": {
      "text/plain": [
       "17"
      ]
     },
     "execution_count": 1,
     "metadata": {},
     "output_type": "execute_result"
    }
   ],
   "source": [
    "# This a simple arithmetic expression to mutiply then add integers\n",
    "(3*4)+5"
   ]
  },
  {
   "cell_type": "code",
   "execution_count": 2,
   "id": "b7a6a0a2-bf91-45bb-8ae5-7851d3e2ff1d",
   "metadata": {},
   "outputs": [
    {
     "name": "stdout",
     "output_type": "stream",
     "text": [
      "200 minutes converts to 3.33 hours\n"
     ]
    }
   ],
   "source": [
    "#  This will convert 200 minutes to hours by diving by 60\n",
    "m = 200\n",
    "h = m / 60\n",
    "print(\"{} minutes converts to {:.2f} hours\".format(m, h))"
   ]
  },
  {
   "cell_type": "markdown",
   "id": "e79b3543-b5d7-43d8-93d6-f88f34589515",
   "metadata": {},
   "source": [
    "## Author\n",
    "Tianyi Zhou"
   ]
  }
 ],
 "metadata": {
  "kernelspec": {
   "display_name": "Python 3 (ipykernel)",
   "language": "python",
   "name": "python3"
  },
  "language_info": {
   "codemirror_mode": {
    "name": "ipython",
    "version": 3
   },
   "file_extension": ".py",
   "mimetype": "text/x-python",
   "name": "python",
   "nbconvert_exporter": "python",
   "pygments_lexer": "ipython3",
   "version": "3.9.6"
  }
 },
 "nbformat": 4,
 "nbformat_minor": 5
}
